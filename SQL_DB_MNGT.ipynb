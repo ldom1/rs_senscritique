{
 "cells": [
  {
   "cell_type": "code",
   "execution_count": 2,
   "metadata": {},
   "outputs": [],
   "source": [
    "import sqlite3\n",
    "import uuid\n",
    "import os\n",
    "import pandas as pd"
   ]
  },
  {
   "cell_type": "code",
   "execution_count": 3,
   "metadata": {},
   "outputs": [],
   "source": [
    "db_path = os.getcwd() + '/data/sens_critique_db.db'"
   ]
  },
  {
   "cell_type": "code",
   "execution_count": 4,
   "metadata": {},
   "outputs": [],
   "source": [
    "con = sqlite3.connect(db_path)\n",
    "cursor = con.cursor()"
   ]
  },
  {
   "cell_type": "code",
   "execution_count": 6,
   "metadata": {},
   "outputs": [],
   "source": [
    "users = pd.read_sql(\"select * from users\", con=con)\n",
    "users = users.drop_duplicates(subset=['user_url', 'user_name'])"
   ]
  },
  {
   "cell_type": "code",
   "execution_count": 7,
   "metadata": {},
   "outputs": [],
   "source": [
    "query = \"\"\"\n",
    "    select distinct(user_name) from users_movies\n",
    "\"\"\"\n",
    "\n",
    "exclude_users_movies_df = pd.read_sql(query, con=con)\n",
    "users = users[~users.user_name.isin(exclude_users_movies_df.user_name)]"
   ]
  },
  {
   "cell_type": "code",
   "execution_count": 14,
   "metadata": {},
   "outputs": [
    {
     "data": {
      "text/plain": [
       "user_nb_notes\n",
       "0        704\n",
       "1        147\n",
       "2         63\n",
       "3         41\n",
       "4         34\n",
       "        ... \n",
       "27742      1\n",
       "32083      1\n",
       "32297      1\n",
       "33372      1\n",
       "33538      1\n",
       "Name: user_id, Length: 4179, dtype: int64"
      ]
     },
     "execution_count": 14,
     "metadata": {},
     "output_type": "execute_result"
    }
   ],
   "source": [
    "users.sort_values(by='user_nb_notes', ascending=True).groupby(['user_nb_notes'])['user_id'].count()"
   ]
  },
  {
   "cell_type": "code",
   "execution_count": 20,
   "metadata": {},
   "outputs": [],
   "source": [
    "query = \"\"\"\n",
    "CREATE TABLE users_movies(\n",
    "    movie_id PRIMARY KEY,\n",
    "    user_id TEXT NOT NULL,\n",
    "    user_url TEXT NOT NULL,\n",
    "    user_name TEXT NOT NULL,\n",
    "    movie_url TEXT NOT NULL,\n",
    "    movie_name TEXT NOT NULL,\n",
    "    user_rating INT NOT NULL,\n",
    "    user_interest INT NOT NULL,\n",
    "    global_rating FLOAT NOT NULL,\n",
    "    url_critic TEXT NOT NULL,\n",
    "    nb_raters INT NOT NULL\n",
    ")\n",
    "\n",
    "\"\"\""
   ]
  },
  {
   "cell_type": "code",
   "execution_count": 21,
   "metadata": {},
   "outputs": [],
   "source": [
    "cursor.execute(query)\n",
    "cursor.close()"
   ]
  },
  {
   "cell_type": "code",
   "execution_count": null,
   "metadata": {},
   "outputs": [],
   "source": []
  },
  {
   "cell_type": "code",
   "execution_count": null,
   "metadata": {},
   "outputs": [],
   "source": []
  },
  {
   "cell_type": "code",
   "execution_count": null,
   "metadata": {},
   "outputs": [],
   "source": []
  },
  {
   "cell_type": "code",
   "execution_count": 5,
   "metadata": {},
   "outputs": [],
   "source": [
    "users = pd.read_sql(\"select * from users\", con=con)"
   ]
  },
  {
   "cell_type": "code",
   "execution_count": 6,
   "metadata": {},
   "outputs": [
    {
     "data": {
      "text/html": [
       "<div>\n",
       "<style scoped>\n",
       "    .dataframe tbody tr th:only-of-type {\n",
       "        vertical-align: middle;\n",
       "    }\n",
       "\n",
       "    .dataframe tbody tr th {\n",
       "        vertical-align: top;\n",
       "    }\n",
       "\n",
       "    .dataframe thead th {\n",
       "        text-align: right;\n",
       "    }\n",
       "</style>\n",
       "<table border=\"1\" class=\"dataframe\">\n",
       "  <thead>\n",
       "    <tr style=\"text-align: right;\">\n",
       "      <th></th>\n",
       "      <th>user_id</th>\n",
       "      <th>user_url</th>\n",
       "      <th>user_name</th>\n",
       "      <th>user_nb_followers</th>\n",
       "      <th>user_nb_notes</th>\n",
       "    </tr>\n",
       "  </thead>\n",
       "  <tbody>\n",
       "    <tr>\n",
       "      <th>0</th>\n",
       "      <td>10a1349a-706e-4072-94a5-779a385276f3</td>\n",
       "      <td>https://www.senscritique.com/Sergent_Pepper</td>\n",
       "      <td>Sergent_Pepper</td>\n",
       "      <td>9393</td>\n",
       "      <td>7423</td>\n",
       "    </tr>\n",
       "    <tr>\n",
       "      <th>1</th>\n",
       "      <td>02e2a48d-3725-4cf2-8bdf-cc346abfc813</td>\n",
       "      <td>https://www.senscritique.com/Karim_Debbache-Privé</td>\n",
       "      <td>Karim_Debbache-Privé</td>\n",
       "      <td>6915</td>\n",
       "      <td>1170</td>\n",
       "    </tr>\n",
       "    <tr>\n",
       "      <th>2</th>\n",
       "      <td>5ff2bb1b-5e24-4a96-afbf-caf17bb0f4c1</td>\n",
       "      <td>https://www.senscritique.com/Plug_In_Papa</td>\n",
       "      <td>Plug_In_Papa</td>\n",
       "      <td>6235</td>\n",
       "      <td>6307</td>\n",
       "    </tr>\n",
       "    <tr>\n",
       "      <th>3</th>\n",
       "      <td>ee3cc22b-cfc6-447f-a4a4-422aa999c4b4</td>\n",
       "      <td>https://www.senscritique.com/Inthepanda</td>\n",
       "      <td>Inthepanda</td>\n",
       "      <td>6061</td>\n",
       "      <td>2527</td>\n",
       "    </tr>\n",
       "    <tr>\n",
       "      <th>4</th>\n",
       "      <td>2501bfc4-e4fe-4d25-ac74-2e5483f750cd</td>\n",
       "      <td>https://www.senscritique.com/Hypérion</td>\n",
       "      <td>Hypérion</td>\n",
       "      <td>5610</td>\n",
       "      <td>3340</td>\n",
       "    </tr>\n",
       "    <tr>\n",
       "      <th>...</th>\n",
       "      <td>...</td>\n",
       "      <td>...</td>\n",
       "      <td>...</td>\n",
       "      <td>...</td>\n",
       "      <td>...</td>\n",
       "    </tr>\n",
       "    <tr>\n",
       "      <th>9995</th>\n",
       "      <td>dd59973c-6c01-4628-8948-e46be2df417b</td>\n",
       "      <td>https://www.senscritique.com/Benelie</td>\n",
       "      <td>Benelie</td>\n",
       "      <td>42</td>\n",
       "      <td>1126</td>\n",
       "    </tr>\n",
       "    <tr>\n",
       "      <th>9996</th>\n",
       "      <td>4032c329-264a-4b95-a6b6-6c1c0c0b3af7</td>\n",
       "      <td>https://www.senscritique.com/rgmathieu</td>\n",
       "      <td>rgmathieu</td>\n",
       "      <td>42</td>\n",
       "      <td>260</td>\n",
       "    </tr>\n",
       "    <tr>\n",
       "      <th>9997</th>\n",
       "      <td>4146156d-b744-4984-9ea7-81f6345b2063</td>\n",
       "      <td>https://www.senscritique.com/Robin_Gross</td>\n",
       "      <td>Robin_Gross</td>\n",
       "      <td>42</td>\n",
       "      <td>794</td>\n",
       "    </tr>\n",
       "    <tr>\n",
       "      <th>9998</th>\n",
       "      <td>ddd441d3-4584-416b-8a7c-a68293e64115</td>\n",
       "      <td>https://www.senscritique.com/Jahlostgang</td>\n",
       "      <td>Jahlostgang</td>\n",
       "      <td>42</td>\n",
       "      <td>1096</td>\n",
       "    </tr>\n",
       "    <tr>\n",
       "      <th>9999</th>\n",
       "      <td>557ca913-f152-401f-8095-6804cd7468a5</td>\n",
       "      <td>https://www.senscritique.com/Feriele_Beggour</td>\n",
       "      <td>Feriele_Beggour</td>\n",
       "      <td>42</td>\n",
       "      <td>1156</td>\n",
       "    </tr>\n",
       "  </tbody>\n",
       "</table>\n",
       "<p>10000 rows × 5 columns</p>\n",
       "</div>"
      ],
      "text/plain": [
       "                                   user_id  \\\n",
       "0     10a1349a-706e-4072-94a5-779a385276f3   \n",
       "1     02e2a48d-3725-4cf2-8bdf-cc346abfc813   \n",
       "2     5ff2bb1b-5e24-4a96-afbf-caf17bb0f4c1   \n",
       "3     ee3cc22b-cfc6-447f-a4a4-422aa999c4b4   \n",
       "4     2501bfc4-e4fe-4d25-ac74-2e5483f750cd   \n",
       "...                                    ...   \n",
       "9995  dd59973c-6c01-4628-8948-e46be2df417b   \n",
       "9996  4032c329-264a-4b95-a6b6-6c1c0c0b3af7   \n",
       "9997  4146156d-b744-4984-9ea7-81f6345b2063   \n",
       "9998  ddd441d3-4584-416b-8a7c-a68293e64115   \n",
       "9999  557ca913-f152-401f-8095-6804cd7468a5   \n",
       "\n",
       "                                               user_url             user_name  \\\n",
       "0           https://www.senscritique.com/Sergent_Pepper        Sergent_Pepper   \n",
       "1     https://www.senscritique.com/Karim_Debbache-Privé  Karim_Debbache-Privé   \n",
       "2             https://www.senscritique.com/Plug_In_Papa          Plug_In_Papa   \n",
       "3               https://www.senscritique.com/Inthepanda            Inthepanda   \n",
       "4                 https://www.senscritique.com/Hypérion              Hypérion   \n",
       "...                                                 ...                   ...   \n",
       "9995               https://www.senscritique.com/Benelie               Benelie   \n",
       "9996             https://www.senscritique.com/rgmathieu             rgmathieu   \n",
       "9997           https://www.senscritique.com/Robin_Gross           Robin_Gross   \n",
       "9998           https://www.senscritique.com/Jahlostgang           Jahlostgang   \n",
       "9999       https://www.senscritique.com/Feriele_Beggour       Feriele_Beggour   \n",
       "\n",
       "      user_nb_followers  user_nb_notes  \n",
       "0                  9393           7423  \n",
       "1                  6915           1170  \n",
       "2                  6235           6307  \n",
       "3                  6061           2527  \n",
       "4                  5610           3340  \n",
       "...                 ...            ...  \n",
       "9995                 42           1126  \n",
       "9996                 42            260  \n",
       "9997                 42            794  \n",
       "9998                 42           1096  \n",
       "9999                 42           1156  \n",
       "\n",
       "[10000 rows x 5 columns]"
      ]
     },
     "execution_count": 6,
     "metadata": {},
     "output_type": "execute_result"
    }
   ],
   "source": [
    "users"
   ]
  },
  {
   "cell_type": "code",
   "execution_count": null,
   "metadata": {},
   "outputs": [],
   "source": []
  },
  {
   "cell_type": "code",
   "execution_count": null,
   "metadata": {},
   "outputs": [],
   "source": [
    "users = pd.read_sql(\"select * from users\", con=con)"
   ]
  },
  {
   "cell_type": "code",
   "execution_count": null,
   "metadata": {},
   "outputs": [],
   "source": [
    "users = users.drop_duplicates(subset=['user_url', 'user_name'])"
   ]
  },
  {
   "cell_type": "code",
   "execution_count": null,
   "metadata": {},
   "outputs": [],
   "source": [
    "users"
   ]
  },
  {
   "cell_type": "code",
   "execution_count": null,
   "metadata": {},
   "outputs": [],
   "source": [
    "import time\n",
    "import requests\n",
    "from user_agent import generate_user_agent\n",
    "from bs4 import BeautifulSoup as soup\n",
    "import logging\n",
    "\n",
    "logging.basicConfig(level=logging.INFO)\n",
    "\n",
    "\n",
    "def get_code(url):\n",
    "    \"\"\"Return the code html\"\"\"\n",
    "    # Define the user agent\n",
    "    headers = {'User-Agent': generate_user_agent(device_type=\"desktop\",\n",
    "                                                 os=('mac', 'linux'))}\n",
    "    # Open the url file and get the html code of the page\n",
    "    req = requests.get(url, headers=headers)\n",
    "    time.sleep(1)\n",
    "    return soup(req.text, \"lxml\")\n"
   ]
  },
  {
   "cell_type": "code",
   "execution_count": null,
   "metadata": {},
   "outputs": [],
   "source": [
    "user_name = users.iloc[0]['user_name']"
   ]
  },
  {
   "cell_type": "code",
   "execution_count": null,
   "metadata": {},
   "outputs": [],
   "source": [
    "url = f'https://www.senscritique.com/{user_name}/collection/all/films/all/all/all/all/all/all/all/page-1'"
   ]
  },
  {
   "cell_type": "code",
   "execution_count": null,
   "metadata": {},
   "outputs": [],
   "source": [
    "html_code = get_code(url=url)"
   ]
  },
  {
   "cell_type": "code",
   "execution_count": null,
   "metadata": {},
   "outputs": [],
   "source": [
    "def get_user_rating(movie_info):\n",
    "    tmp = movie_info('div', 'elco-collection-rating user')[0]\n",
    "\n",
    "    try:\n",
    "        if tmp.get_text().strip() == '':\n",
    "            user_rating = 1\n",
    "        else:\n",
    "            user_rating = int(tmp.get_text().strip())\n",
    "    except Exception as e:\n",
    "        logging.info(f'Movie - get user rating - Error: {e}')\n",
    "        user_rating = None\n",
    "    return user_rating\n",
    "\n",
    "\n",
    "def get_user_movie_info(movie_info):\n",
    "    content = movie_info('div', 'elco-collection-content collection')\n",
    "\n",
    "    try:\n",
    "        movie_url = 'https://www.senscritique.com' + content[0].a['href']\n",
    "    except Exception as e:\n",
    "        logging.info(f'Movie - get movie url - Error: {e}')\n",
    "        movie_url = None\n",
    "\n",
    "    try:\n",
    "        movie_name = content[0].a.get_text()\n",
    "    except Exception as e:\n",
    "        logging.info(f'Movie - get movie name - Error: {e}')\n",
    "        movie_name = None\n",
    "\n",
    "    try:\n",
    "        movie_id = content[0].a['id']\n",
    "    except Exception as e:\n",
    "        logging.info(f'Movie - get movie id - Error: {e}')\n",
    "        movie_id = None\n",
    "\n",
    "    return movie_url, movie_name, movie_id\n",
    "\n",
    "\n",
    "def get_movie_global_rating(movie_info):\n",
    "    content = movie_info('div', 'erra user')[0]\n",
    "    try:\n",
    "        global_rating = float(content.a.get_text().strip())\n",
    "    except Exception as e:\n",
    "        logging.info(f'Movie - get global rating - Error: {e}')\n",
    "        global_rating = None\n",
    "\n",
    "    try:\n",
    "        url_critic = 'https://www.senscritique.com' + content.a['href']\n",
    "    except Exception as e:\n",
    "        logging.info(f'Movie - get critic url - Error: {e}')\n",
    "        url_critic = None\n",
    "\n",
    "    try:\n",
    "        nb_raters = int(content.a['title'].split(':')[-1].replace('avis', '').strip())\n",
    "    except Exception as e:\n",
    "        logging.info(f'Movie - get global rating - Error: {e}')\n",
    "        nb_raters = None\n",
    "\n",
    "    return global_rating, url_critic, nb_raters"
   ]
  },
  {
   "cell_type": "code",
   "execution_count": null,
   "metadata": {},
   "outputs": [],
   "source": [
    "def get_nb_pages(html_code):\n",
    "    try:\n",
    "        nb_page = html_code('li', 'eipa-page')[-1].a['data-sc-pager-page']\n",
    "    except Exception as e:\n",
    "        nb_page = 100\n",
    "        logging.info(f'Movie - get total nb of pages - Error: {e}. Setup {nb_page} pages by default')\n",
    "    return int(nb_page)"
   ]
  },
  {
   "cell_type": "code",
   "execution_count": null,
   "metadata": {},
   "outputs": [],
   "source": [
    "def generate_urls(user_name, html_code):\n",
    "    nb_page = get_nb_pages(html_code=html_code)\n",
    "    return [f'https://www.senscritique.com/{user_name}/collection/all/films/all/all/all/all/all/all/all/page-{i+1}'\n",
    "            for i in range(nb_page)]\n",
    "    \n",
    "    "
   ]
  },
  {
   "cell_type": "code",
   "execution_count": null,
   "metadata": {},
   "outputs": [],
   "source": [
    "def get_all_users_movies_from_one_page(html_code):\n",
    "    \n",
    "    all_movie_info = html_code('li', 'elco-collection-item')\n",
    "    \n",
    "    users_movies_info = {'movie_url': [],\n",
    "                         'movie_name': [],\n",
    "                         'movie_id': [],\n",
    "                         'user_rating': [],\n",
    "                         'user_interest': [],\n",
    "                         'global_rating': [],\n",
    "                         'url_critic': [],\n",
    "                         'nb_raters': [],\n",
    "                        }\n",
    "    \n",
    "    for movie_info in all_movie_info:\n",
    "        \n",
    "        user_rating = get_user_rating(movie_info=movie_info)\n",
    "        \n",
    "        if user_rating == 1:\n",
    "            users_movies_info[\"user_rating\"].append(None)\n",
    "            users_movies_info[\"user_interest\"].append(1)\n",
    "        else:\n",
    "            users_movies_info[\"user_rating\"].append(user_rating)\n",
    "            users_movies_info[\"user_interest\"].append(0)\n",
    "            \n",
    "        movie_url, movie_name, movie_id = get_user_movie_info(movie_info=movie_info)\n",
    "        global_rating, url_critic, nb_raters = get_movie_global_rating(movie_info=movie_info)\n",
    "        \n",
    "        users_movies_info[\"movie_url\"].append(movie_url)\n",
    "        users_movies_info[\"movie_name\"].append(movie_name)\n",
    "        users_movies_info[\"movie_id\"].append(movie_id)\n",
    "        users_movies_info[\"global_rating\"].append(global_rating)\n",
    "        users_movies_info[\"url_critic\"].append(url_critic)\n",
    "        users_movies_info[\"nb_raters\"].append(nb_raters)\n",
    "    \n",
    "    return pd.DataFrame(users_movies_info)\n",
    "        \n",
    "        "
   ]
  },
  {
   "cell_type": "code",
   "execution_count": null,
   "metadata": {},
   "outputs": [],
   "source": [
    "pd.DataFrame(df).columns"
   ]
  },
  {
   "cell_type": "code",
   "execution_count": null,
   "metadata": {},
   "outputs": [],
   "source": []
  }
 ],
 "metadata": {
  "kernelspec": {
   "display_name": "Python 3",
   "language": "python",
   "name": "python3"
  },
  "language_info": {
   "codemirror_mode": {
    "name": "ipython",
    "version": 3
   },
   "file_extension": ".py",
   "mimetype": "text/x-python",
   "name": "python",
   "nbconvert_exporter": "python",
   "pygments_lexer": "ipython3",
   "version": "3.6.8"
  }
 },
 "nbformat": 4,
 "nbformat_minor": 4
}
